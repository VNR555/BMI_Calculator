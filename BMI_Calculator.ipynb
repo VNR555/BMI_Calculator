{
 "cells": [
  {
   "cell_type": "code",
   "execution_count": null,
   "id": "10218e33-ceb6-4599-93f0-1fefbe66a2cb",
   "metadata": {},
   "outputs": [],
   "source": [
    "name = input (\"Enter your name: \")\n",
    "\n",
    "weight = int(input (\"Enter your weight in pounds: \"))\n",
    "\n",
    "height = int(input (\"Enter your height in inches: \"))\n",
    "\n",
    "BMI = (weight * 703) / (height * height)\n",
    "\n",
    "print (BMI)\n",
    "\n",
    "if BMI > 0:\n",
    "    if (BMI < 18.5):\n",
    "        print (name +\", you are underweight. Focus on nutrient-dense foods to gain weight healthily.\")\n",
    "    elif (BMI <= 29.9):\n",
    "        print (name +\", you are normal weight. Maintain your current lifestyle and regular physical activity.\")\n",
    "    elif (BMI < 29.9):\n",
    "        print (name +\", you are overweight. Incorporate more physical activity and balanced meals into your routine.\")\n",
    "    elif (BMI < 34.9):\n",
    "        print (name +\", you are obese. Seek guidance from a healthcare professional for a personalized weight loss plan.\")\n",
    "    elif (BMI < 39.9):\n",
    "        print (name +\", you are severely obese. Consider a comprehensive weight management program under medical supervision.\")\n",
    "    else:\n",
    "        print (name +\", you are morbidly obese. Consult with a healthcare provider about potential medical treatments or interventions.\")\n",
    "else:\n",
    "    print (\"Enter a valid input\")"
   ]
  },
  {
   "cell_type": "code",
   "execution_count": null,
   "id": "df4b14d2-b669-42b8-90a9-a06cafee9081",
   "metadata": {},
   "outputs": [],
   "source": []
  }
 ],
 "metadata": {
  "kernelspec": {
   "display_name": "Python 3 (ipykernel)",
   "language": "python",
   "name": "python3"
  },
  "language_info": {
   "codemirror_mode": {
    "name": "ipython",
    "version": 3
   },
   "file_extension": ".py",
   "mimetype": "text/x-python",
   "name": "python",
   "nbconvert_exporter": "python",
   "pygments_lexer": "ipython3",
   "version": "3.12.4"
  }
 },
 "nbformat": 4,
 "nbformat_minor": 5
}
